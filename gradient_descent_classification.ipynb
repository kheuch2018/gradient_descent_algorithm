{
 "cells": [
  {
   "cell_type": "markdown",
   "id": "a4c4300d",
   "metadata": {},
   "source": [
    "# Algorithme de la descente de gradient\n",
    "Ici, je réécris l'algorithme de la descente de gradient.\n",
    "\n",
    "## Explication:\n",
    "L'algorithme de la descente de gradient permet de trouver les paramètres d'un model qui minimisent son erreur lors d'une prediction. \n",
    "Il s'agit ici de mettre à jour les paramètres du model jusqu'à trouver les paramètres qui minimisent l'erreur.\n",
    "\n",
    "## Les étapes:\n",
    "* Etape 1: On importe les bibliothèques numpy pandas et matplotlib\n",
    "* Etape 2: On importe les données (le dataset)\n",
    "* Etape 3: On definit les fonctions suivantes\n",
    "    * sigmoid: Transforme tout nombre qu'on lui donne en un nombre compris entre 0 et 1 (en une probabilité)\n",
    "    * cross_entropy: Nous permet d'obtenir l'erreur du model à minimiser\n",
    "    * gradient: c'est le changement appliqué aux paramètres du model en vu de minimiser son erreur de prediction\n",
    "    * init_params: permet d'initialiser les parametres du model. Pour un model d'equation Wx + b = 0, W et b sont les paramètres du modele\n",
    "* Etape 4: On initialise les paramètres du model de facon aléatoire\n",
    "* Etape 5: On entraine le modele en y faisant passer les donnees 5000 fois (5000 epochs) et en modifiant à chaque fois les parametres du model"
   ]
  },
  {
   "cell_type": "markdown",
   "id": "28f8e3c7",
   "metadata": {},
   "source": [
    "## Etape 1: On importe les bibliothèques numpy pandas et matplotlib"
   ]
  },
  {
   "cell_type": "code",
   "execution_count": 16,
   "id": "bdf41859",
   "metadata": {},
   "outputs": [],
   "source": [
    "import numpy as np\n",
    "import pandas as pd\n",
    "import matplotlib.pyplot as plt"
   ]
  },
  {
   "cell_type": "markdown",
   "id": "28853bc2",
   "metadata": {},
   "source": [
    "## Etape 2: On importe les données (le dataset)"
   ]
  },
  {
   "cell_type": "code",
   "execution_count": 17,
   "id": "8082296b",
   "metadata": {},
   "outputs": [],
   "source": [
    "data = pd.read_csv(\"./data.csv\", names=[\"x1\",\"x2\",\"label\"])"
   ]
  },
  {
   "cell_type": "code",
   "execution_count": 18,
   "id": "63f86f0c",
   "metadata": {},
   "outputs": [
    {
     "data": {
      "text/html": [
       "<div>\n",
       "<style scoped>\n",
       "    .dataframe tbody tr th:only-of-type {\n",
       "        vertical-align: middle;\n",
       "    }\n",
       "\n",
       "    .dataframe tbody tr th {\n",
       "        vertical-align: top;\n",
       "    }\n",
       "\n",
       "    .dataframe thead th {\n",
       "        text-align: right;\n",
       "    }\n",
       "</style>\n",
       "<table border=\"1\" class=\"dataframe\">\n",
       "  <thead>\n",
       "    <tr style=\"text-align: right;\">\n",
       "      <th></th>\n",
       "      <th>x1</th>\n",
       "      <th>x2</th>\n",
       "      <th>label</th>\n",
       "    </tr>\n",
       "  </thead>\n",
       "  <tbody>\n",
       "    <tr>\n",
       "      <th>0</th>\n",
       "      <td>0.78051</td>\n",
       "      <td>-0.063669</td>\n",
       "      <td>1</td>\n",
       "    </tr>\n",
       "    <tr>\n",
       "      <th>1</th>\n",
       "      <td>0.28774</td>\n",
       "      <td>0.291390</td>\n",
       "      <td>1</td>\n",
       "    </tr>\n",
       "    <tr>\n",
       "      <th>2</th>\n",
       "      <td>0.40714</td>\n",
       "      <td>0.178780</td>\n",
       "      <td>1</td>\n",
       "    </tr>\n",
       "    <tr>\n",
       "      <th>3</th>\n",
       "      <td>0.29230</td>\n",
       "      <td>0.421700</td>\n",
       "      <td>1</td>\n",
       "    </tr>\n",
       "    <tr>\n",
       "      <th>4</th>\n",
       "      <td>0.50922</td>\n",
       "      <td>0.352560</td>\n",
       "      <td>1</td>\n",
       "    </tr>\n",
       "    <tr>\n",
       "      <th>...</th>\n",
       "      <td>...</td>\n",
       "      <td>...</td>\n",
       "      <td>...</td>\n",
       "    </tr>\n",
       "    <tr>\n",
       "      <th>95</th>\n",
       "      <td>0.77029</td>\n",
       "      <td>0.701400</td>\n",
       "      <td>0</td>\n",
       "    </tr>\n",
       "    <tr>\n",
       "      <th>96</th>\n",
       "      <td>0.73156</td>\n",
       "      <td>0.717820</td>\n",
       "      <td>0</td>\n",
       "    </tr>\n",
       "    <tr>\n",
       "      <th>97</th>\n",
       "      <td>0.44556</td>\n",
       "      <td>0.579910</td>\n",
       "      <td>0</td>\n",
       "    </tr>\n",
       "    <tr>\n",
       "      <th>98</th>\n",
       "      <td>0.85275</td>\n",
       "      <td>0.859870</td>\n",
       "      <td>0</td>\n",
       "    </tr>\n",
       "    <tr>\n",
       "      <th>99</th>\n",
       "      <td>0.51912</td>\n",
       "      <td>0.623590</td>\n",
       "      <td>0</td>\n",
       "    </tr>\n",
       "  </tbody>\n",
       "</table>\n",
       "<p>100 rows × 3 columns</p>\n",
       "</div>"
      ],
      "text/plain": [
       "         x1        x2  label\n",
       "0   0.78051 -0.063669      1\n",
       "1   0.28774  0.291390      1\n",
       "2   0.40714  0.178780      1\n",
       "3   0.29230  0.421700      1\n",
       "4   0.50922  0.352560      1\n",
       "..      ...       ...    ...\n",
       "95  0.77029  0.701400      0\n",
       "96  0.73156  0.717820      0\n",
       "97  0.44556  0.579910      0\n",
       "98  0.85275  0.859870      0\n",
       "99  0.51912  0.623590      0\n",
       "\n",
       "[100 rows x 3 columns]"
      ]
     },
     "execution_count": 18,
     "metadata": {},
     "output_type": "execute_result"
    }
   ],
   "source": [
    "data"
   ]
  },
  {
   "cell_type": "code",
   "execution_count": 19,
   "id": "98c7bb2e",
   "metadata": {},
   "outputs": [
    {
     "name": "stdout",
     "output_type": "stream",
     "text": [
      "<class 'pandas.core.frame.DataFrame'>\n",
      "RangeIndex: 100 entries, 0 to 99\n",
      "Data columns (total 3 columns):\n",
      " #   Column  Non-Null Count  Dtype  \n",
      "---  ------  --------------  -----  \n",
      " 0   x1      100 non-null    float64\n",
      " 1   x2      100 non-null    float64\n",
      " 2   label   100 non-null    int64  \n",
      "dtypes: float64(2), int64(1)\n",
      "memory usage: 2.5 KB\n"
     ]
    }
   ],
   "source": [
    "data.info()"
   ]
  },
  {
   "cell_type": "markdown",
   "id": "3f514d49",
   "metadata": {},
   "source": [
    "## Etape 3: On definit les fonctions"
   ]
  },
  {
   "cell_type": "code",
   "execution_count": 20,
   "id": "78212d72",
   "metadata": {},
   "outputs": [],
   "source": [
    "def sigmoid(score):\n",
    "    return 1/(1+np.exp(-score))"
   ]
  },
  {
   "cell_type": "code",
   "execution_count": 21,
   "id": "98f298d3",
   "metadata": {},
   "outputs": [],
   "source": [
    "def cross_entropy(y,y_hat):\n",
    "    return -y*np.log(y_hat)-(1-y)*np.log(1-y_hat)"
   ]
  },
  {
   "cell_type": "code",
   "execution_count": 22,
   "id": "af5021b9",
   "metadata": {},
   "outputs": [],
   "source": [
    "def gradient(y,y_hat):\n",
    "    return -(y-y_hat)"
   ]
  },
  {
   "cell_type": "code",
   "execution_count": 23,
   "id": "474be542",
   "metadata": {},
   "outputs": [],
   "source": [
    "def init_params():\n",
    "    w = np.random.uniform(0,1, size=(2,))    \n",
    "    b = np.random.uniform(-1,0)\n",
    "    return w,b"
   ]
  },
  {
   "cell_type": "code",
   "execution_count": 24,
   "id": "adc2b797",
   "metadata": {},
   "outputs": [],
   "source": [
    "def show_data():\n",
    "    plt.scatter(data[data[\"label\"] == 0][\"x1\"],data[data[\"label\"] ==0][\"x2\"])    \n",
    "    plt.scatter(data[data[\"label\"] == 1][\"x1\"],data[data[\"label\"] ==1][\"x2\"])"
   ]
  },
  {
   "cell_type": "code",
   "execution_count": 25,
   "id": "7836821e",
   "metadata": {},
   "outputs": [
    {
     "data": {
      "image/png": "[encoded data removed]",
      "text/plain": [
       "<Figure size 432x288 with 1 Axes>"
      ]
     },
     "metadata": {
      "needs_background": "light"
     },
     "output_type": "display_data"
    }
   ],
   "source": [
    "show_data()"
   ]
  },
  {
   "cell_type": "markdown",
   "id": "a8806f4c",
   "metadata": {},
   "source": [
    "## Etape 4: On initialise les paramètres du model de facon aléatoire"
   ]
  },
  {
   "cell_type": "code",
   "execution_count": 26,
   "id": "2ea8f7ca",
   "metadata": {},
   "outputs": [
    {
     "data": {
      "text/plain": [
       "-0.7309814488008087"
      ]
     },
     "execution_count": 26,
     "metadata": {},
     "output_type": "execute_result"
    },
    {
     "data": {
      "image/png": "[encoded data removed]",
      "text/plain": [
       "<Figure size 432x288 with 1 Axes>"
      ]
     },
     "metadata": {
      "needs_background": "light"
     },
     "output_type": "display_data"
    }
   ],
   "source": [
    "w,b = init_params()\n",
    "#w[0]x1 + w[1]x2 + b = 0 => x1 = -(w[1]*x2 + b)/w[0]\n",
    "x2 = np.linspace(0,1,num=10)\n",
    "x1 = -(w[1]*x2 + b)/w[0]\n",
    "show_data()\n",
    "plt.plot(x1,x2)"
   ]
  },
  {
   "cell_type": "code",
   "execution_count": 27,
   "id": "95f9b0e4",
   "metadata": {},
   "outputs": [
    {
     "name": "stdout",
     "output_type": "stream",
     "text": [
      "[0.24054429 0.75419067] -0.7309814488008087\n",
      "Loss: 0.007561158207348436 === N° Epochs: 0\n",
      "Loss: 0.007035814914667127 === N° Epochs: 200\n",
      "Loss: 0.0066177991439894494 === N° Epochs: 400\n",
      "Loss: 0.006257850570341287 === N° Epochs: 600\n",
      "Loss: 0.005933688508866361 === N° Epochs: 800\n",
      "Loss: 0.0056349251052924786 === N° Epochs: 1000\n",
      "Loss: 0.0053564627244816546 === N° Epochs: 1200\n",
      "Loss: 0.005095565072635834 === N° Epochs: 1400\n",
      "Loss: 0.0048505535591506785 === N° Epochs: 1600\n",
      "Loss: 0.004620228686209596 === N° Epochs: 1800\n",
      "Loss: 0.0044036152106597575 === N° Epochs: 2000\n",
      "Loss: 0.004199851410768176 === N° Epochs: 2200\n",
      "Loss: 0.004008142030014765 === N° Epochs: 2400\n",
      "Loss: 0.003827738992760788 === N° Epochs: 2600\n",
      "Loss: 0.0036579339388809464 === N° Epochs: 2800\n",
      "Loss: 0.003498055546313466 === N° Epochs: 3000\n",
      "Loss: 0.003347468589118355 === N° Epochs: 3200\n",
      "Loss: 0.003205573446096899 === N° Epochs: 3400\n",
      "Loss: 0.003071805554815351 === N° Epochs: 3600\n",
      "Loss: 0.002945634644980036 === N° Epochs: 3800\n",
      "Loss: 0.00282656372788199 === N° Epochs: 4000\n",
      "Loss: 0.0027141278742858787 === N° Epochs: 4200\n",
      "Loss: 0.0026078928305625776 === N° Epochs: 4400\n",
      "Loss: 0.0025074535239847447 === N° Epochs: 4600\n",
      "Loss: 0.002412432502765543 === N° Epochs: 4800\n",
      "[-1.8795768  -1.69503791] 1.7189015634903044\n"
     ]
    }
   ],
   "source": [
    "LEARNING_RATE = .01/len(data)\n",
    "for e in range(5000):\n",
    "    for i in range(len(data)-1):\n",
    "        row = data.iloc[i]\n",
    "        score = w[0]*row[\"x1\"] + w[1]*row[\"x2\"] + b\n",
    "        y_hat = sigmoid(score)\n",
    "        y = row[\"label\"]\n",
    "        w[0] = w[0] - LEARNING_RATE*gradient(y,y_hat)*row[\"x1\"]\n",
    "        w[1] = w[1] - LEARNING_RATE*gradient(y,y_hat)*row[\"x2\"]\n",
    "        b = b - LEARNING_RATE*gradient(y,y_hat)\n",
    "    if(e%200 == 0):\n",
    "        print(\"Loss: \"+str(1/len(data)*cross_entropy(y,y_hat))+\" === N° Epochs: \" +str(e))\n",
    "print(\"Fin de l'entrainement du model\")"
   ]
  },
  {
   "cell_type": "code",
   "execution_count": 28,
   "id": "926a1fe6",
   "metadata": {},
   "outputs": [
    {
     "data": {
      "text/plain": [
       "(array([-1.8795768 , -1.69503791]), 1.7189015634903044)"
      ]
     },
     "execution_count": 28,
     "metadata": {},
     "output_type": "execute_result"
    },
    {
     "data": {
      "image/png": "[encoded data removed]",
      "text/plain": [
       "<Figure size 432x288 with 1 Axes>"
      ]
     },
     "metadata": {
      "needs_background": "light"
     },
     "output_type": "display_data"
    }
   ],
   "source": [
    "x2 = np.linspace(0,1,num=10)\n",
    "x1 = -(w[1]*x2 + b)/w[0]\n",
    "show_data()\n",
    "plt.plot(x1,x2)"
   ]
  }
 ],
 "metadata": {
  "kernelspec": {
   "display_name": "Python 3",
   "language": "python",
   "name": "python3"
  },
  "language_info": {
   "codemirror_mode": {
    "name": "ipython",
    "version": 3
   },
   "file_extension": ".py",
   "mimetype": "text/x-python",
   "name": "python",
   "nbconvert_exporter": "python",
   "pygments_lexer": "ipython3",
   "version": "3.9.4"
  }
 },
 "nbformat": 4,
 "nbformat_minor": 5
}
